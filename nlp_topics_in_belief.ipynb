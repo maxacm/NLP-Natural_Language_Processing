{
 "cells": [
  {
   "attachments": {},
   "cell_type": "markdown",
   "metadata": {},
   "source": [
    "**vectors**\n",
    "* scalar product\n",
    "* dot (inner) product\n",
    "* norm\n",
    "\n",
    "**matrices**: 2d array of numbers\n",
    "* pointwise operations:\n",
    "    * multiplication, scalar multiplications, addition, subtraction\n",
    "* matrix vector multiplication"
   ]
  },
  {
   "cell_type": "code",
   "execution_count": null,
   "metadata": {
    "vscode": {
     "languageId": "plaintext"
    }
   },
   "outputs": [],
   "source": []
  },
  {
   "attachments": {},
   "cell_type": "markdown",
   "metadata": {},
   "source": [
    "If you can decompose a polynomial, you have solved the topic modeling problem.\n",
    "\n",
    "V documents by p words,\n",
    "how many of times a word appears in each document\n",
    "\n",
    "We want to have a unique composition\n",
    "* prime numbers\n",
    "* restrict or regularize solution space\n",
    "\n",
    "We need unique compositions\n",
    "* you always want B and C to be the same matrices\n",
    "* you wnat to come up with the same topics each time\n"
   ]
  },
  {
   "cell_type": "code",
   "execution_count": null,
   "metadata": {
    "vscode": {
     "languageId": "plaintext"
    }
   },
   "outputs": [],
   "source": []
  },
  {
   "attachments": {},
   "cell_type": "markdown",
   "metadata": {},
   "source": [
    "You want to see how important a topic is within each document or across documents.\n",
    "\n",
    "Find lower dimensional space where all/most information is stored\n",
    "\n",
    "BoW produces matrices\n",
    "\n",
    "what are the different terms that relate most to the topics?\n",
    "\n",
    "What is the best way of doing order selection in SVD?"
   ]
  }
 ],
 "metadata": {
  "language_info": {
   "name": "python"
  },
  "orig_nbformat": 4
 },
 "nbformat": 4,
 "nbformat_minor": 2
}
